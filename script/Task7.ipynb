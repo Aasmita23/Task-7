{
  "nbformat": 4,
  "nbformat_minor": 0,
  "metadata": {
    "colab": {
      "provenance": []
    },
    "kernelspec": {
      "name": "python3",
      "display_name": "Python 3"
    },
    "language_info": {
      "name": "python"
    }
  },
  "cells": [
    {
      "cell_type": "code",
      "execution_count": 1,
      "metadata": {
        "id": "tlDLuNZ1vpkH"
      },
      "outputs": [],
      "source": [
        "import sqlite3\n",
        "import pandas as pd\n",
        "import matplotlib.pyplot as plt"
      ]
    },
    {
      "cell_type": "code",
      "source": [
        "# Step 1: Connect to SQLite database (will create sales_data.db if it doesn't exist)\n",
        "conn = sqlite3.connect(\"sales_data.db\")\n",
        "cursor = conn.cursor()"
      ],
      "metadata": {
        "id": "dSVANtk_v4vW"
      },
      "execution_count": 2,
      "outputs": []
    },
    {
      "cell_type": "code",
      "source": [
        "# Step 2: Create sales table if it doesn't already exist\n",
        "cursor.execute(\"\"\"\n",
        "CREATE TABLE IF NOT EXISTS sales (\n",
        "    id INTEGER PRIMARY KEY AUTOINCREMENT,\n",
        "    product TEXT,\n",
        "    quantity INTEGER,\n",
        "    price REAL\n",
        ")\n",
        "\"\"\")"
      ],
      "metadata": {
        "colab": {
          "base_uri": "https://localhost:8080/"
        },
        "id": "FBX3tXCfwJ39",
        "outputId": "a40a8784-98d4-4c19-d386-f88abf7b10f7"
      },
      "execution_count": 3,
      "outputs": [
        {
          "output_type": "execute_result",
          "data": {
            "text/plain": [
              "<sqlite3.Cursor at 0x7f6e6671a540>"
            ]
          },
          "metadata": {},
          "execution_count": 3
        }
      ]
    },
    {
      "cell_type": "code",
      "source": [
        "# Step 3: Insert sample data (only if table is empty)\n",
        "cursor.execute(\"SELECT COUNT(*) FROM sales\")\n",
        "if cursor.fetchone()[0] == 0:\n",
        "    sample_data = [\n",
        "        (\"Product A\", 20, 18.0),\n",
        "        (\"Product B\", 10, 15.0),\n",
        "        (\"Product A\", 3, 5.0),\n",
        "        (\"Product C\", 7, 30.0),\n",
        "        (\"Product B\", 11, 24.0),\n",
        "        (\"Product C\", 9, 15.0),\n",
        "    ]\n",
        "    cursor.executemany(\"INSERT INTO sales (product, quantity, price) VALUES (?, ?, ?)\", sample_data)\n",
        "    conn.commit()"
      ],
      "metadata": {
        "id": "_7av-sKqwQgj"
      },
      "execution_count": 4,
      "outputs": []
    },
    {
      "cell_type": "code",
      "source": [
        "# Step 4: Write SQL query to get total quantity and revenue per product\n",
        "query = \"\"\"\n",
        "SELECT\n",
        "product,\n",
        "    SUM(quantity) AS total_qty,\n",
        "    SUM(quantity * price) AS revenue\n",
        "FROM sales\n",
        "GROUP BY product\n",
        "\"\"\""
      ],
      "metadata": {
        "id": "7n4Y1NevwgAK"
      },
      "execution_count": 5,
      "outputs": []
    },
    {
      "cell_type": "code",
      "source": [
        "# Step 5: Execute query and load into pandas DataFrame\n",
        "df = pd.read_sql_query(query, conn)\n"
      ],
      "metadata": {
        "id": "HU8NMbZLwm4u"
      },
      "execution_count": 6,
      "outputs": []
    },
    {
      "cell_type": "code",
      "source": [
        "# Step 6: Print the results\n",
        "print(\"Sales Summary:\")\n",
        "print(df)\n"
      ],
      "metadata": {
        "colab": {
          "base_uri": "https://localhost:8080/"
        },
        "id": "5zNffM1wwr6k",
        "outputId": "dc89ccdf-8122-49f3-ec9a-df994c94c643"
      },
      "execution_count": 7,
      "outputs": [
        {
          "output_type": "stream",
          "name": "stdout",
          "text": [
            "Sales Summary:\n",
            "     product  total_qty  revenue\n",
            "0  Product A         23    375.0\n",
            "1  Product B         21    414.0\n",
            "2  Product C         16    345.0\n"
          ]
        }
      ]
    },
    {
      "cell_type": "code",
      "source": [
        "# Step 7: Plot bar chart of revenue by product\n",
        "df.plot(kind='bar', x='product', y='revenue', color='skyblue', legend=False)\n",
        "plt.title(\"Total Revenue by Product\")\n",
        "plt.xlabel(\"Product\")\n",
        "plt.ylabel(\"Revenue\")\n",
        "plt.tight_layout()"
      ],
      "metadata": {
        "colab": {
          "base_uri": "https://localhost:8080/",
          "height": 487
        },
        "id": "sd1prxeWww41",
        "outputId": "953cb785-4eb2-4ea3-e9d1-2d6a79638dbe"
      },
      "execution_count": 8,
      "outputs": [
        {
          "output_type": "display_data",
          "data": {
            "text/plain": [
              "<Figure size 640x480 with 1 Axes>"
            ],
            "image/png": "[encoded data removed]"
          },
          "metadata": {}
        }
      ]
    },
    {
      "cell_type": "code",
      "source": [
        "# Step 8: Save and show the chart\n",
        "plt.savefig(\"sales_chart.png\")\n",
        "plt.show()\n"
      ],
      "metadata": {
        "colab": {
          "base_uri": "https://localhost:8080/",
          "height": 34
        },
        "id": "wY4xkYsnw0h8",
        "outputId": "9d949f3d-176b-48e0-dc61-bc6dabbdbc07"
      },
      "execution_count": 9,
      "outputs": [
        {
          "output_type": "display_data",
          "data": {
            "text/plain": [
              "<Figure size 640x480 with 0 Axes>"
            ]
          },
          "metadata": {}
        }
      ]
    },
    {
      "cell_type": "code",
      "source": [
        "# Step 9: Close the database connection\n",
        "conn.close()"
      ],
      "metadata": {
        "id": "Xrbua18dw5Ts"
      },
      "execution_count": 10,
      "outputs": []
    },
    {
      "cell_type": "code",
      "source": [],
      "metadata": {
        "id": "minoHvDsw9Nk"
      },
      "execution_count": null,
      "outputs": []
    }
  ]
}